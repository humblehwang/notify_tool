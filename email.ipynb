{
 "cells": [
  {
   "cell_type": "code",
   "execution_count": 1,
   "metadata": {},
   "outputs": [],
   "source": [
    "# https://www.learncodewithmike.com/2020/02/python-email.html\n",
    "import smtplib\n",
    "from email.mime.multipart import MIMEMultipart\n",
    "from email.mime.text import MIMEText\n",
    "from email.mime.image import MIMEImage\n",
    "from pathlib import Path"
   ]
  },
  {
   "cell_type": "code",
   "execution_count": 5,
   "metadata": {},
   "outputs": [],
   "source": [
    "content = MIMEMultipart()  \n",
    "content[\"subject\"] = \"測試\"  #title of email\n",
    "content[\"from\"] = \"xxxxx@gmail.com\"  # sender\n",
    "content[\"to\"] = \"xxxxxx@yahoo.com.tw\" # receiver\n",
    "content[\"Cc\"] = \"xxxxxx@nctu.edu.tw\" # cc\n",
    "content.attach(MIMEText(msg)) # content of email\n",
    "#content.attach(MIMEImage(Path(\"itri.jpg\").read_bytes())) #image"
   ]
  },
  {
   "cell_type": "code",
   "execution_count": 6,
   "metadata": {},
   "outputs": [
    {
     "name": "stdout",
     "output_type": "stream",
     "text": [
      "Complete!\n"
     ]
    }
   ],
   "source": [
    "with smtplib.SMTP(host=\"smtp.gmail.com\", port=\"587\") as smtp:  # SMTP server\n",
    "    try:\n",
    "        smtp.ehlo()  # authentication SMTP server\n",
    "        smtp.starttls()  # set up the encrypted transmission\n",
    "        smtp.login(\"xxxxxxx@gmail.com\", \"jelcgnukorrqplxt\")  # login gmail \n",
    "        smtp.send_message(content)  \n",
    "        print(\"Complete!\")\n",
    "    except Exception as e:\n",
    "        print(\"Error message: \", e)"
   ]
  },
  {
   "cell_type": "code",
   "execution_count": null,
   "metadata": {},
   "outputs": [],
   "source": []
  }
 ],
 "metadata": {
  "kernelspec": {
   "display_name": "Python 3",
   "language": "python",
   "name": "python3"
  },
  "language_info": {
   "codemirror_mode": {
    "name": "ipython",
    "version": 3
   },
   "file_extension": ".py",
   "mimetype": "text/x-python",
   "name": "python",
   "nbconvert_exporter": "python",
   "pygments_lexer": "ipython3",
   "version": "3.8.10"
  }
 },
 "nbformat": 4,
 "nbformat_minor": 2
}
