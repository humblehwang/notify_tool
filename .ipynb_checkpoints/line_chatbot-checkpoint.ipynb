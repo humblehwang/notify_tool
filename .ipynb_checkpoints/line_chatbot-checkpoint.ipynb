{
 "cells": [
  {
   "cell_type": "code",
   "execution_count": 12,
   "metadata": {},
   "outputs": [],
   "source": [
    "#https://xiaosean.github.io/chatbot/2018-04-19-LineChatbot_usage/\n",
    "#https://github.com/xiaosean/Line_chatbot_tutorial/blob/master/push_tutorial.ipynb\n",
    "from linebot import LineBotApi\n",
    "from linebot.models import TextSendMessage, ImageSendMessage\n",
    "from linebot.exceptions import LineBotApiError\n",
    "LINE_CHANNEL_SECRE = \"dc152d1bb53d2d27c763d770fc12974f\"\n",
    "CHANNEL_ACCESS_TOKEN = \"wfGhN6VZ+rBoK2QRhIo9nnL+toOzUS6G/fMg6vUpZDmIbvtUoymNLp6SWqvZ06LjvZol2k6nb3DkdWgpAYyl/voxZC2/+yQBkT0E/TNzjL8uJrRqyqO9tWlPtBwjFB2Qr5iWtcpIDtDR+U8Aulo5yQdB04t89/1O/w1cDnyilFU=\"\n",
    "\n",
    "userID_list = {\"黃伯靜\":\"Ubc03adde3f96e4887fdeaadde3a5cc56\",\n",
    "               \"Zach\":\"U93eff97f273bfe5cee90f248a96c7e8f\",\n",
    "               \"Dear\":\"U2939309959d2c0e8851b3fa7c10e4b88\"\n",
    "              }\n",
    "\n",
    "to_ID = userID_list['Dear']\n",
    "line_bot_api = LineBotApi(CHANNEL_ACCESS_TOKEN)\n",
    "\n",
    "#文字訊息\n",
    "\n",
    "try:\n",
    "    line_bot_api.push_message(to_ID, TextSendMessage(text='http://140.113.73.56:8888/view/Code/ITRI/SolarSafety/plot_image.html'))\n",
    "except LineBotApiError as e:\n",
    "    # error handle\n",
    "    raise e\n"
   ]
  },
  {
   "cell_type": "code",
   "execution_count": 94,
   "metadata": {},
   "outputs": [],
   "source": [
    "to = userID_list['Dear']\n",
    "image_url = \"https://i.imgur.com/lATEZwJ.png\"\n",
    "try:\n",
    "    line_bot_api.push_message(to, ImageSendMessage(original_content_url=image_url, preview_image_url=image_url))\n",
    "except LineBotApiError as e:\n",
    "    # error handle\n",
    "    raise e"
   ]
  },
  {
   "cell_type": "code",
   "execution_count": 73,
   "metadata": {},
   "outputs": [],
   "source": [
    "from linebot.models import LocationSendMessage\n",
    "to =\"Ubc03adde3f96e4887fdeaadde3a5cc56\"\n",
    "title = \"核能研究所\"\n",
    "address = \"中科院核能研究所\"\n",
    "latitude = 24.85764343503151\n",
    "longitude = 121.25182811648278\n",
    " \n",
    "try:\n",
    "    line_bot_api.push_message(to, LocationSendMessage(title=title,\n",
    "                                                      address=address,\n",
    "                                                      latitude=latitude,\n",
    "                                                      longitude=longitude))\n",
    "except LineBotApiError as e:\n",
    "    # error handle\n",
    "    raise e"
   ]
  },
  {
   "cell_type": "code",
   "execution_count": 68,
   "metadata": {},
   "outputs": [],
   "source": [
    "from linebot.models import StickerSendMessage\n",
    "to = \"U93eff97f273bfe5cee90f248a96c7e8f\"\n",
    "\n",
    "package_id = \"1\"\n",
    "sticker_id = \"2\"\n",
    "# package_id = \"1181660\"\n",
    "# sticker_id = \"7389429\"\n",
    "try:\n",
    "    line_bot_api.push_message(to, StickerSendMessage(package_id=package_id, sticker_id=sticker_id))\n",
    "except LineBotApiError as e:\n",
    "    # error handle\n",
    "    raise e"
   ]
  },
  {
   "cell_type": "code",
   "execution_count": 55,
   "metadata": {},
   "outputs": [],
   "source": [
    "#廣播多個人\n",
    "line_bot_api.multicast(['Ubc03adde3f96e4887fdeaadde3a5cc56', 'U93eff97f273bfe5cee90f248a96c7e8f'], TextSendMessage(text='Hello World!'))\n"
   ]
  },
  {
   "cell_type": "code",
   "execution_count": 50,
   "metadata": {},
   "outputs": [
    {
     "data": {
      "text/plain": [
       "<linebot.models.responses.BroadcastResponse at 0x7f868c6a6400>"
      ]
     },
     "execution_count": 50,
     "metadata": {},
     "output_type": "execute_result"
    }
   ],
   "source": [
    "#廣播給所有朋友\n",
    "line_bot_api.broadcast(TextSendMessage(text='聽到請回答'))"
   ]
  },
  {
   "cell_type": "code",
   "execution_count": null,
   "metadata": {},
   "outputs": [],
   "source": []
  },
  {
   "cell_type": "code",
   "execution_count": 71,
   "metadata": {},
   "outputs": [
    {
     "ename": "LineBotApiError",
     "evalue": "LineBotApiError: status_code=400, request_id=b3a59b0e-50d8-4f5f-a7b4-f3814c8246c0, error_response={\"details\": [{\"message\": \"invalid uri\", \"property\": \"template/actions/1/uri\"}, {\"message\": \"invalid uri scheme\", \"property\": \"template/actions/1/uri\"}, {\"message\": \"invalid uri scheme\", \"property\": \"template/thumbnailImageUrl\"}], \"message\": \"A message (messages[0])\\u00a0in the request body is invalid\"}, headers={'Server': 'openresty', 'Content-Type': 'application/json', 'x-line-request-id': 'b3a59b0e-50d8-4f5f-a7b4-f3814c8246c0', 'x-content-type-options': 'nosniff', 'x-xss-protection': '1; mode=block', 'x-frame-options': 'DENY', 'Expires': 'Tue, 13 Apr 2021 08:43:32 GMT', 'Cache-Control': 'max-age=0, no-cache, no-store', 'Pragma': 'no-cache', 'Date': 'Tue, 13 Apr 2021 08:43:32 GMT', 'Connection': 'close'}",
     "output_type": "error",
     "traceback": [
      "\u001b[0;31m---------------------------------------------------------------------------\u001b[0m",
      "\u001b[0;31mLineBotApiError\u001b[0m                           Traceback (most recent call last)",
      "\u001b[0;32m<ipython-input-71-851b48e63bea>\u001b[0m in \u001b[0;36m<module>\u001b[0;34m\u001b[0m\n\u001b[1;32m     28\u001b[0m \u001b[0;34m\u001b[0m\u001b[0m\n\u001b[1;32m     29\u001b[0m \u001b[0;34m\u001b[0m\u001b[0m\n\u001b[0;32m---> 30\u001b[0;31m \u001b[0mline_bot_api\u001b[0m\u001b[0;34m.\u001b[0m\u001b[0mpush_message\u001b[0m\u001b[0;34m(\u001b[0m\u001b[0mto\u001b[0m\u001b[0;34m,\u001b[0m \u001b[0mbuttons_template\u001b[0m\u001b[0;34m)\u001b[0m\u001b[0;34m\u001b[0m\u001b[0;34m\u001b[0m\u001b[0m\n\u001b[0m\u001b[1;32m     31\u001b[0m \u001b[0;34m\u001b[0m\u001b[0m\n",
      "\u001b[0;32m~/anaconda3/lib/python3.7/site-packages/linebot/api.py\u001b[0m in \u001b[0;36mpush_message\u001b[0;34m(self, to, messages, retry_key, notification_disabled, timeout)\u001b[0m\n\u001b[1;32m    146\u001b[0m \u001b[0;34m\u001b[0m\u001b[0m\n\u001b[1;32m    147\u001b[0m         self._post(\n\u001b[0;32m--> 148\u001b[0;31m             \u001b[0;34m'/v2/bot/message/push'\u001b[0m\u001b[0;34m,\u001b[0m \u001b[0mdata\u001b[0m\u001b[0;34m=\u001b[0m\u001b[0mjson\u001b[0m\u001b[0;34m.\u001b[0m\u001b[0mdumps\u001b[0m\u001b[0;34m(\u001b[0m\u001b[0mdata\u001b[0m\u001b[0;34m)\u001b[0m\u001b[0;34m,\u001b[0m \u001b[0mtimeout\u001b[0m\u001b[0;34m=\u001b[0m\u001b[0mtimeout\u001b[0m\u001b[0;34m\u001b[0m\u001b[0;34m\u001b[0m\u001b[0m\n\u001b[0m\u001b[1;32m    149\u001b[0m         )\n\u001b[1;32m    150\u001b[0m \u001b[0;34m\u001b[0m\u001b[0m\n",
      "\u001b[0;32m~/anaconda3/lib/python3.7/site-packages/linebot/api.py\u001b[0m in \u001b[0;36m_post\u001b[0;34m(self, path, endpoint, data, headers, timeout)\u001b[0m\n\u001b[1;32m   1244\u001b[0m         )\n\u001b[1;32m   1245\u001b[0m \u001b[0;34m\u001b[0m\u001b[0m\n\u001b[0;32m-> 1246\u001b[0;31m         \u001b[0mself\u001b[0m\u001b[0;34m.\u001b[0m\u001b[0m__check_error\u001b[0m\u001b[0;34m(\u001b[0m\u001b[0mresponse\u001b[0m\u001b[0;34m)\u001b[0m\u001b[0;34m\u001b[0m\u001b[0;34m\u001b[0m\u001b[0m\n\u001b[0m\u001b[1;32m   1247\u001b[0m         \u001b[0;32mreturn\u001b[0m \u001b[0mresponse\u001b[0m\u001b[0;34m\u001b[0m\u001b[0;34m\u001b[0m\u001b[0m\n\u001b[1;32m   1248\u001b[0m \u001b[0;34m\u001b[0m\u001b[0m\n",
      "\u001b[0;32m~/anaconda3/lib/python3.7/site-packages/linebot/api.py\u001b[0m in \u001b[0;36m__check_error\u001b[0;34m(response)\u001b[0m\n\u001b[1;32m   1285\u001b[0m                 \u001b[0mrequest_id\u001b[0m\u001b[0;34m=\u001b[0m\u001b[0mresponse\u001b[0m\u001b[0;34m.\u001b[0m\u001b[0mheaders\u001b[0m\u001b[0;34m.\u001b[0m\u001b[0mget\u001b[0m\u001b[0;34m(\u001b[0m\u001b[0;34m'X-Line-Request-Id'\u001b[0m\u001b[0;34m)\u001b[0m\u001b[0;34m,\u001b[0m\u001b[0;34m\u001b[0m\u001b[0;34m\u001b[0m\u001b[0m\n\u001b[1;32m   1286\u001b[0m                 \u001b[0maccepted_request_id\u001b[0m\u001b[0;34m=\u001b[0m\u001b[0mresponse\u001b[0m\u001b[0;34m.\u001b[0m\u001b[0mheaders\u001b[0m\u001b[0;34m.\u001b[0m\u001b[0mget\u001b[0m\u001b[0;34m(\u001b[0m\u001b[0;34m'X-Line-Accepted-Request-Id'\u001b[0m\u001b[0;34m)\u001b[0m\u001b[0;34m,\u001b[0m\u001b[0;34m\u001b[0m\u001b[0;34m\u001b[0m\u001b[0m\n\u001b[0;32m-> 1287\u001b[0;31m                 \u001b[0merror\u001b[0m\u001b[0;34m=\u001b[0m\u001b[0mError\u001b[0m\u001b[0;34m.\u001b[0m\u001b[0mnew_from_json_dict\u001b[0m\u001b[0;34m(\u001b[0m\u001b[0mresponse\u001b[0m\u001b[0;34m.\u001b[0m\u001b[0mjson\u001b[0m\u001b[0;34m)\u001b[0m\u001b[0;34m\u001b[0m\u001b[0;34m\u001b[0m\u001b[0m\n\u001b[0m\u001b[1;32m   1288\u001b[0m             )\n",
      "\u001b[0;31mLineBotApiError\u001b[0m: LineBotApiError: status_code=400, request_id=b3a59b0e-50d8-4f5f-a7b4-f3814c8246c0, error_response={\"details\": [{\"message\": \"invalid uri\", \"property\": \"template/actions/1/uri\"}, {\"message\": \"invalid uri scheme\", \"property\": \"template/actions/1/uri\"}, {\"message\": \"invalid uri scheme\", \"property\": \"template/thumbnailImageUrl\"}], \"message\": \"A message (messages[0])\\u00a0in the request body is invalid\"}, headers={'Server': 'openresty', 'Content-Type': 'application/json', 'x-line-request-id': 'b3a59b0e-50d8-4f5f-a7b4-f3814c8246c0', 'x-content-type-options': 'nosniff', 'x-xss-protection': '1; mode=block', 'x-frame-options': 'DENY', 'Expires': 'Tue, 13 Apr 2021 08:43:32 GMT', 'Cache-Control': 'max-age=0, no-cache, no-store', 'Pragma': 'no-cache', 'Date': 'Tue, 13 Apr 2021 08:43:32 GMT', 'Connection': 'close'}"
     ]
    }
   ],
   "source": [
    "from linebot.models import TemplateSendMessage, ButtonsTemplate, PostbackTemplateAction, MessageTemplateAction, URITemplateAction\n",
    "\n",
    "to = \"Ubc03adde3f96e4887fdeaadde3a5cc56\"\n",
    "\n",
    "buttons_template = TemplateSendMessage(\n",
    "alt_text='Buttons Template',\n",
    "template=ButtonsTemplate(\n",
    "    title='這是ButtonsTemplate',\n",
    "    text='ButtonsTemplate可以傳送text,uri',\n",
    "    thumbnail_image_url='顯示在開頭的大圖片網址',\n",
    "    actions=[\n",
    "        MessageTemplateAction(\n",
    "            label='ButtonsTemplate',\n",
    "            text='ButtonsTemplate'\n",
    "        ),\n",
    "        URITemplateAction(\n",
    "            label='VIDEO1',\n",
    "            uri='影片網址'\n",
    "        ),\n",
    "        PostbackTemplateAction(\n",
    "            label='postback',\n",
    "            text='postback text',\n",
    "            data='postback1'\n",
    "        )\n",
    "    ]\n",
    ")\n",
    ")\n",
    "\n",
    "\n",
    "line_bot_api.push_message(to, buttons_template)\n",
    "\n"
   ]
  },
  {
   "cell_type": "code",
   "execution_count": 72,
   "metadata": {},
   "outputs": [],
   "source": [
    "button_template_message =ButtonsTemplate(\n",
    "                    thumbnail_image_url=\"https://i.imgur.com/eTldj2E.png?1\",\n",
    "                    title='Menu', \n",
    "                    text='Please select',\n",
    "                    ratio=\"1.51:1\",\n",
    "                    image_size=\"cover\",\n",
    "                    actions=[\n",
    "#                                PostbackTemplateAction 點擊選項後，\n",
    "#                                 除了文字會顯示在聊天室中，\n",
    "#                                 還回傳data中的資料，可\n",
    "#                                 此類透過 Postback event 處理。\n",
    "                        PostbackTemplateAction(\n",
    "                            label='postback還會回傳data參數', \n",
    "                            text='postback text',\n",
    "                            data='action=buy&itemid=1'\n",
    "                        ),\n",
    "                        MessageTemplateAction(\n",
    "                            label='message會回傳text文字', text='message text'\n",
    "                        ),\n",
    "                        URITemplateAction(\n",
    "                            label='uri可回傳網址', uri='http://www.xiaosean.website/'\n",
    "                        )\n",
    "                    ]\n",
    "                )\n",
    "try:\n",
    "    #     alt_text 因template只能夠在手機上顯示，因此在PC版會使用alt_Text替代\n",
    "    line_bot_api.push_message(to, TemplateSendMessage(alt_text=\"Template Example\", template=button_template_message))\n",
    "except LineBotApiError as e:\n",
    "        # error handle\n",
    "    raise e"
   ]
  },
  {
   "cell_type": "code",
   "execution_count": null,
   "metadata": {},
   "outputs": [],
   "source": []
  },
  {
   "cell_type": "code",
   "execution_count": 53,
   "metadata": {},
   "outputs": [
    {
     "name": "stdout",
     "output_type": "stream",
     "text": [
      "Zach\n",
      "U93eff97f273bfe5cee90f248a96c7e8f\n",
      "https://sprofile.line-scdn.net/0h6R5igdpnaX0YEH83sgUXAmhAahc7YTBvZHRyEisZM08tJywqMCFxH30RMkwkKXx5Y3QkHH8WPh4UAx4bBkaVSR8gN0ohJCcvN3Ying\n",
      "靜定慧\n"
     ]
    }
   ],
   "source": [
    "# Get User profile by user ID\n",
    "profile = line_bot_api.get_profile(\"U93eff97f273bfe5cee90f248a96c7e8f\")\n",
    "\n",
    "print(profile.display_name)\n",
    "print(profile.user_id)\n",
    "print(profile.picture_url)\n",
    "print(profile.status_message)"
   ]
  },
  {
   "cell_type": "code",
   "execution_count": 54,
   "metadata": {},
   "outputs": [
    {
     "name": "stdout",
     "output_type": "stream",
     "text": [
      "SolarWatcher\n",
      "U973d61cceb59ab530bf0790dd482b8c7\n",
      "@771tathj\n",
      "None\n",
      "None\n",
      "bot\n",
      "auto\n"
     ]
    }
   ],
   "source": [
    "bot_info = line_bot_api.get_bot_info()\n",
    "\n",
    "print(bot_info.display_name)\n",
    "print(bot_info.user_id)\n",
    "print(bot_info.basic_id)\n",
    "print(bot_info.premium_id)\n",
    "print(bot_info.picture_url)\n",
    "print(bot_info.chat_mode)\n",
    "print(bot_info.mark_as_read_mode)"
   ]
  },
  {
   "cell_type": "code",
   "execution_count": null,
   "metadata": {},
   "outputs": [],
   "source": []
  },
  {
   "cell_type": "code",
   "execution_count": null,
   "metadata": {},
   "outputs": [],
   "source": []
  }
 ],
 "metadata": {
  "kernelspec": {
   "display_name": "Python 3",
   "language": "python",
   "name": "python3"
  },
  "language_info": {
   "codemirror_mode": {
    "name": "ipython",
    "version": 3
   },
   "file_extension": ".py",
   "mimetype": "text/x-python",
   "name": "python",
   "nbconvert_exporter": "python",
   "pygments_lexer": "ipython3",
   "version": "3.8.5"
  }
 },
 "nbformat": 4,
 "nbformat_minor": 2
}
