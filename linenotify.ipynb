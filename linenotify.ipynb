{
 "cells": [
  {
   "cell_type": "code",
   "execution_count": 1,
   "metadata": {},
   "outputs": [
    {
     "data": {
      "text/plain": [
       "200"
      ]
     },
     "execution_count": 1,
     "metadata": {},
     "output_type": "execute_result"
    }
   ],
   "source": [
    "# -- coding: utf-8 --\n",
    "import requests\n",
    "\n",
    "def lineNotifyMessage(token, msg):\n",
    "    token = 'FCu219LLwMYZDQEtKrxhdnwNkUeQc7skeO1QpG8emCp'\n",
    "\n",
    "    headers = {\n",
    "        \"Authorization\": \"Bearer \" + token,\n",
    "        \"Content-Type\": \"application/x-www-form-urlencoded\"\n",
    "    }\n",
    "\n",
    "    payload = {'message': msg}\n",
    "    r = requests.post(\"https://notify-api.line.me/api/notify\", headers=headers, params=payload)\n",
    "    return r.status_code\n",
    "\n",
    "\n",
    "# 你要傳送的訊息內容\n",
    "message = '我是伯靜'\n",
    "# 將剛剛複製下來的Token取代以下''中的內容即可\n",
    "\n",
    "lineNotifyMessage(token, message)"
   ]
  },
  {
   "cell_type": "code",
   "execution_count": null,
   "metadata": {},
   "outputs": [],
   "source": []
  },
  {
   "cell_type": "code",
   "execution_count": null,
   "metadata": {},
   "outputs": [],
   "source": []
  }
 ],
 "metadata": {
  "kernelspec": {
   "display_name": "Python 3",
   "language": "python",
   "name": "python3"
  },
  "language_info": {
   "codemirror_mode": {
    "name": "ipython",
    "version": 3
   },
   "file_extension": ".py",
   "mimetype": "text/x-python",
   "name": "python",
   "nbconvert_exporter": "python",
   "pygments_lexer": "ipython3",
   "version": "3.8.5"
  }
 },
 "nbformat": 4,
 "nbformat_minor": 2
}
